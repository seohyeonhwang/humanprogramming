{
 "cells": [
  {
   "cell_type": "code",
   "execution_count": 3,
   "metadata": {
    "collapsed": true
   },
   "outputs": [],
   "source": [
    "###2019.10.06 목표 선형모델까지###\n",
    "\n",
    "#overfiting : 모델이 훈련세트에 너무 정확해서 테스트세트에는 일반화가 어렵다\n",
    "#undeorfiting : 모델이 훈련세트에 다양성을 잡아내지 못하고 테스트세트에 막 해도 일반화가 된다."
   ]
  },
  {
   "cell_type": "code",
   "execution_count": 4,
   "metadata": {
    "collapsed": false
   },
   "outputs": [
    {
     "name": "stderr",
     "output_type": "stream",
     "text": [
      "C:\\Users\\alfot\\Anaconda3\\lib\\site-packages\\sklearn\\utils\\deprecation.py:85: DeprecationWarning: Function make_blobs is deprecated; Please import make_blobs directly from scikit-learn\n",
      "  warnings.warn(msg, category=DeprecationWarning)\n"
     ]
    },
    {
     "name": "stdout",
     "output_type": "stream",
     "text": [
      "X.shape:  (26, 2)\n"
     ]
    },
    {
     "data": {
      "image/png": "[encoded data removed]",
      "text/plain": [
       "<Figure size 432x288 with 1 Axes>"
      ]
     },
     "metadata": {},
     "output_type": "display_data"
    }
   ],
   "source": [
    "import mglearn\n",
    "import matplotlib.pyplot as plt\n",
    "%matplotlib inline\n",
    "#데이터 셋 만들기\n",
    "X, y = mglearn.datasets.make_forge()\n",
    "\n",
    "#산점도 그리기\n",
    "mglearn.discrete_scatter(X[:,0],X[:,1],y)\n",
    "plt.legend([\"클래스0\",\"클래스1\"])\n",
    "plt.xlabel(\"첫번째특성\")\n",
    "plt.xlabel(\"두번째특성\")\n",
    "print(\"X.shape: \",X.shape)"
   ]
  },
  {
   "cell_type": "code",
   "execution_count": 5,
   "metadata": {
    "collapsed": false,
    "scrolled": true
   },
   "outputs": [
    {
     "data": {
      "text/plain": [
       "Text(0.5, 0, '타깃')"
      ]
     },
     "execution_count": 5,
     "metadata": {},
     "output_type": "execute_result"
    },
    {
     "data": {
      "image/png": "[encoded data removed]",
      "text/plain": [
       "<Figure size 432x288 with 1 Axes>"
      ]
     },
     "metadata": {},
     "output_type": "display_data"
    }
   ],
   "source": [
    "#데이터 셋 만들기\n",
    "X, y = mglearn.datasets.make_wave(n_samples=48)\n",
    "\n",
    "#그래프 그리기\n",
    "plt.plot(X,y,'o')\n",
    "plt.ylim(-3,3)\n",
    "plt.xlabel(\"특성\")\n",
    "plt.xlabel(\"타깃\")"
   ]
  },
  {
   "cell_type": "code",
   "execution_count": 6,
   "metadata": {
    "collapsed": false
   },
   "outputs": [
    {
     "name": "stdout",
     "output_type": "stream",
     "text": [
      "cancer.keys():\n",
      " dict_keys(['feature_names', 'filename', 'data', 'target', 'target_names', 'DESCR'])\n",
      "유방암 데이터의 형태 (569, 30)\n",
      "클래스 별 샘플 수: \n",
      " {'malignant': 212, 'benign': 357}\n",
      "특성 이름: \n",
      " ['mean radius' 'mean texture' 'mean perimeter' 'mean area'\n",
      " 'mean smoothness' 'mean compactness' 'mean concavity'\n",
      " 'mean concave points' 'mean symmetry' 'mean fractal dimension'\n",
      " 'radius error' 'texture error' 'perimeter error' 'area error'\n",
      " 'smoothness error' 'compactness error' 'concavity error'\n",
      " 'concave points error' 'symmetry error' 'fractal dimension error'\n",
      " 'worst radius' 'worst texture' 'worst perimeter' 'worst area'\n",
      " 'worst smoothness' 'worst compactness' 'worst concavity'\n",
      " 'worst concave points' 'worst symmetry' 'worst fractal dimension']\n"
     ]
    }
   ],
   "source": [
    "# 유방암 데이터 불러오기\n",
    "from sklearn.datasets import load_breast_cancer\n",
    "import numpy as np\n",
    "cancer = load_breast_cancer()\n",
    "print(\"cancer.keys():\\n\", cancer.keys())\n",
    "\n",
    "#데이터 알아보기\n",
    "print(\"유방암 데이터의 형태\", cancer.data.shape)\n",
    "print(\"클래스 별 샘플 수: \\n\",{n: v for n, v in zip(cancer.target_names,np.bincount(cancer.target))})\n",
    "print(\"특성 이름: \\n\", cancer.feature_names)"
   ]
  },
  {
   "cell_type": "code",
   "execution_count": 7,
   "metadata": {
    "collapsed": false
   },
   "outputs": [
    {
     "name": "stdout",
     "output_type": "stream",
     "text": [
      "boston.keys():\n",
      " dict_keys(['feature_names', 'filename', 'data', 'target', 'DESCR'])\n",
      "보스턴 데이터의 형태 (506, 13)\n",
      "x.shape (506, 104)\n"
     ]
    }
   ],
   "source": [
    "#보스턴 주택가격 데이터 불러오기\n",
    "from sklearn.datasets import load_boston\n",
    "boston = load_boston()\n",
    "print(\"boston.keys():\\n\", boston.keys())\n",
    "\n",
    "#데이터 알아보기\n",
    "print(\"보스턴 데이터의 형태\", boston.data.shape)\n",
    "#유도된 데이터(특성끼리 곱하는 등 특성을 더 많이 만든 데이터) 알아보기\n",
    "X,y = mglearn.datasets.load_extended_boston()\n",
    "print(\"x.shape\",X.shape)"
   ]
  },
  {
   "cell_type": "code",
   "execution_count": 8,
   "metadata": {
    "collapsed": false
   },
   "outputs": [
    {
     "name": "stderr",
     "output_type": "stream",
     "text": [
      "C:\\Users\\alfot\\Anaconda3\\lib\\site-packages\\sklearn\\utils\\deprecation.py:85: DeprecationWarning: Function make_blobs is deprecated; Please import make_blobs directly from scikit-learn\n",
      "  warnings.warn(msg, category=DeprecationWarning)\n"
     ]
    },
    {
     "data": {
      "image/png": "[encoded data removed]",
      "text/plain": [
       "<Figure size 432x288 with 1 Axes>"
      ]
     },
     "metadata": {},
     "output_type": "display_data"
    }
   ],
   "source": [
    "##K 최근접 이론 : 가장 가까운 거리순으로 포함시킴\n",
    "mglearn.plots.plot_knn_classification(n_neighbors=1)"
   ]
  },
  {
   "cell_type": "code",
   "execution_count": 9,
   "metadata": {
    "collapsed": false
   },
   "outputs": [
    {
     "name": "stdout",
     "output_type": "stream",
     "text": [
      "테스트 예측 [1 0 1 0 1 0 0]\n",
      "테스트 정확도: 0.86\n"
     ]
    },
    {
     "name": "stderr",
     "output_type": "stream",
     "text": [
      "C:\\Users\\alfot\\Anaconda3\\lib\\site-packages\\sklearn\\utils\\deprecation.py:85: DeprecationWarning: Function make_blobs is deprecated; Please import make_blobs directly from scikit-learn\n",
      "  warnings.warn(msg, category=DeprecationWarning)\n"
     ]
    }
   ],
   "source": [
    "#훈련 테스트 데이터 나누기\n",
    "from sklearn.model_selection import train_test_split\n",
    "X, y = mglearn.datasets.make_forge()\n",
    "\n",
    "X_train,X_test,y_train,y_test = train_test_split(X,y,random_state=0)\n",
    "\n",
    "# 모델을 임포트하고 객체로 만들기\n",
    "from sklearn.neighbors import KNeighborsClassifier\n",
    "clf = KNeighborsClassifier(n_neighbors=3)\n",
    "\n",
    "#학습시키기\n",
    "clf.fit(X_train,y_train)\n",
    "\n",
    "#테스트 세트 하나 예측해보기\n",
    "print(\"테스트 예측\", clf.predict(X_test))\n",
    "\n",
    "#테스트 정확도\n",
    "print(\"테스트 정확도: {:.2f}\".format(clf.score(X_test, y_test)))"
   ]
  },
  {
   "cell_type": "code",
   "execution_count": 10,
   "metadata": {
    "collapsed": false
   },
   "outputs": [
    {
     "data": {
      "image/png": "[encoded data removed]",
      "text/plain": [
       "<Figure size 720x432 with 1 Axes>"
      ]
     },
     "metadata": {},
     "output_type": "display_data"
    }
   ],
   "source": [
    "##K 최근접 회귀\n",
    "mglearn.plots.plot_knn_regression(n_neighbors=3)"
   ]
  },
  {
   "cell_type": "code",
   "execution_count": 11,
   "metadata": {
    "collapsed": false
   },
   "outputs": [
    {
     "name": "stdout",
     "output_type": "stream",
     "text": [
      "테스트 세트 예측 [-0.05396539  0.35686046  1.13671923 -1.89415682 -1.13881398 -1.63113382\n",
      "  0.35686046  0.91241374 -0.44680446 -1.13881398]\n",
      "테스트 세트 R^2: 0.83\n"
     ]
    }
   ],
   "source": [
    "#데이터 로드\n",
    "from sklearn.neighbors import KNeighborsRegressor\n",
    "X, y =mglearn.datasets.make_wave(n_samples=40)\n",
    "#훈련 테스트 나누기\n",
    "X_train,X_test,y_train,y_test = train_test_split(X,y,random_state=0)\n",
    "#모델 객체 생성\n",
    "reg=KNeighborsRegressor(n_neighbors=3)\n",
    "#모델 학습시키기\n",
    "reg.fit(X_train,y_train)\n",
    "#예측하기\n",
    "print(\"테스트 세트 예측\", reg.predict(X_test))\n",
    "#정확도 예측\n",
    "print(\"테스트 세트 R^2: {:.2f}\".format(reg.score(X_test,y_test)))\n",
    "\n",
    "##장점\n",
    "#성능 굿 : 다른거 하기 전에 시도하기 좋음\n",
    "##단점\n",
    "#훈련 데이터가 크면 오래 걸림, 전처리 중요"
   ]
  },
  {
   "cell_type": "code",
   "execution_count": 12,
   "metadata": {
    "collapsed": true
   },
   "outputs": [],
   "source": [
    "##선형모델은 열심히 했으니까 지나갈게##\n",
    "#1. 선형회귀(최소제곱법)\n",
    "#2. 1번이 overfit 경우==W를 0이 되게) 리지 회귀(L2) : 최소제곱에 끝에 a*sigma(w) 추가 -> a 클수록 선형회귀와 비슷/ a 작을수록 일반화 굳 \n",
    "#3. 2번과 비슷) 라소 회귀(L1) : 리지와 원리는 동일 but W를 아얘 없앰 -> a 클수록 일반화 굳/ a 작을 수록 선형회귀와 비슷\n",
    "\n",
    "#4. 분류용 선형 모델 : = 이 > 로 바뀔 뿐 (ex. logistic reg, SVM) : 기본적으로 L2이용 a대신에 C -> C 높이면 선형분류/ C 낮추면 일반화 굳\n",
    "#5. 다중클래스 분류용 선형 모델 : 나 아니면 남 방식\n",
    "\n",
    "##장점\n",
    "#속도 빠름, 데이터 커도 잘 처리됨\n",
    "#이해가 쉬움"
   ]
  },
  {
   "cell_type": "code",
   "execution_count": 13,
   "metadata": {
    "collapsed": true
   },
   "outputs": [],
   "source": [
    "##나이즈 베이즈 분류기\n",
    "#선형 분류기와 비슷하지만 훈련 속도가 좀 더 빠르고 일반화 성능은 좀 뒤짐\n",
    "#종류 \n",
    "#1. 가우시안NB : 연속적인 데이터 -> 클래스가 동일한 것들의 표준편차와 평균\n",
    "#2. 베르누이NB : 이진 데이터 -> 클래스가 동일한 것들의 특성 마다의 합\n",
    "#3. 멀티노미얼NB : 카운트 데이터(특성이 어떤 것을 헤아림 ex 문장에 단어가 나타난 수) -> 클래스가 동일한 것들의 특성의 평균\n",
    "#예측\n",
    "#데이터 포인트의 클래스를 통계값과 비교하여 가장 잘 맞는 클래스로 분류"
   ]
  },
  {
   "cell_type": "code",
   "execution_count": 14,
   "metadata": {
    "collapsed": true
   },
   "outputs": [],
   "source": [
    "#매개변수 a : 특성에 양의 데이터 포인터를 a개 만큼 더해줌 = 데이터를 완만하게 함(정확도에 큰 영향 X)\n",
    "#장점\n",
    "#속도가 빠르고 과정 이해가 쉬움 고차원 데이터에도 작동함 매개변수에 민감하지 않음"
   ]
  },
  {
   "cell_type": "code",
   "execution_count": 28,
   "metadata": {
    "collapsed": false
   },
   "outputs": [
    {
     "name": "stdout",
     "output_type": "stream",
     "text": [
      "특성 카운트 : \n",
      " {0: array([0, 1, 0, 2]), 1: array([2, 0, 2, 0])}\n"
     ]
    }
   ],
   "source": [
    "import numpy as np\n",
    "#베르누이 NB 분류기\n",
    "X = np.array([[0,1,0,1],[1,0,1,0],[0,0,0,1],[1,0,1,0]])\n",
    "y = np.array([0,1,0,1]) #class 0에 해당하는 1,3번 데이터 포인트의 값 더하기 , clas 1에 해당하는 2,4번 데이터 포인트의 값 더하기\n",
    "\n",
    "count = {}\n",
    "for label in np.unique(y):\n",
    "    #각 클래스에 대해 반복/특성마다 1이 나타나는 수를 셈\n",
    "    count[label] = X[y==label].sum(axis=0)\n",
    "print(\"특성 카운트 : \\n\",count)"
   ]
  },
  {
   "cell_type": "code",
   "execution_count": 32,
   "metadata": {
    "collapsed": false
   },
   "outputs": [
    {
     "name": "stdout",
     "output_type": "stream",
     "text": [
      "훈련 세트 정확도: 0.988\n",
      "테스트 세트 정확도: 0.951\n"
     ]
    }
   ],
   "source": [
    "##결정 트리\n",
    "#like 스무고개, 클래스 2일 때, 가장 잘 둘로 쪼개는 특성 값을 찾아서 선긋기 -> 반복\n",
    "#overfit 방지 : 사전 가지치기(트리 생성을 일찍 중단) or 사후 가지치기(데이터가 적은 노드 삭제)\n",
    "from sklearn.tree import DecisionTreeClassifier\n",
    "\n",
    "cancer = load_breast_cancer()\n",
    "X_train,X_test,y_train,y_test = train_test_split(cancer.data, cancer.target, stratify=cancer.target, random_state=42)\n",
    "tree = DecisionTreeClassifier(max_depth=4,random_state=0)\n",
    "tree.fit(X_train,y_train)\n",
    "print(\"훈련 세트 정확도: {:.3f}\".format(tree.score(X_train,y_train)))\n",
    "print(\"테스트 세트 정확도: {:.3f}\".format(tree.score(X_test,y_test)))"
   ]
  },
  {
   "cell_type": "code",
   "execution_count": 33,
   "metadata": {
    "collapsed": false,
    "scrolled": false
   },
   "outputs": [
    {
     "ename": "UnicodeDecodeError",
     "evalue": "'cp949' codec can't decode byte 0xec in position 144: illegal multibyte sequence",
     "output_type": "error",
     "traceback": [
      "\u001b[0;31m---------------------------------------------------------------------------\u001b[0m",
      "\u001b[0;31mUnicodeDecodeError\u001b[0m                        Traceback (most recent call last)",
      "\u001b[0;32m<ipython-input-33-639ba558ca4a>\u001b[0m in \u001b[0;36m<module>\u001b[0;34m()\u001b[0m\n\u001b[1;32m      7\u001b[0m \u001b[1;32mimport\u001b[0m \u001b[0mgraphviz\u001b[0m\u001b[1;33m\u001b[0m\u001b[0m\n\u001b[1;32m      8\u001b[0m \u001b[1;32mwith\u001b[0m \u001b[0mopen\u001b[0m\u001b[1;33m(\u001b[0m\u001b[1;34m\"tree.dot\"\u001b[0m\u001b[1;33m)\u001b[0m \u001b[1;32mas\u001b[0m \u001b[0mf\u001b[0m\u001b[1;33m:\u001b[0m \u001b[1;31m#############encoding='UTF-8'넣으면 된다는데 안된다.\u001b[0m\u001b[1;33m\u001b[0m\u001b[0m\n\u001b[0;32m----> 9\u001b[0;31m     \u001b[0mdot_graph\u001b[0m \u001b[1;33m=\u001b[0m \u001b[0mf\u001b[0m\u001b[1;33m.\u001b[0m\u001b[0mread\u001b[0m\u001b[1;33m(\u001b[0m\u001b[1;33m)\u001b[0m\u001b[1;33m\u001b[0m\u001b[0m\n\u001b[0m\u001b[1;32m     10\u001b[0m \u001b[0mdisplay\u001b[0m\u001b[1;33m(\u001b[0m\u001b[0mgraphviz\u001b[0m\u001b[1;33m.\u001b[0m\u001b[0mSource\u001b[0m\u001b[1;33m(\u001b[0m\u001b[0mdot_graph\u001b[0m\u001b[1;33m)\u001b[0m\u001b[1;33m)\u001b[0m\u001b[1;33m\u001b[0m\u001b[0m\n",
      "\u001b[0;31mUnicodeDecodeError\u001b[0m: 'cp949' codec can't decode byte 0xec in position 144: illegal multibyte sequence"
     ]
    }
   ],
   "source": [
    "#결정트리 시각화하기 위해 데이터를 txt같은 dot으로 저장\n",
    "from sklearn.tree import export_graphviz\n",
    "from IPython.display import display\n",
    "export_graphviz(tree, out_file=\"tree.dot\", class_names=[\"악성\",\"양성\"],\n",
    "                feature_names=cancer.feature_names, impurity=False, filled=True)\n",
    "#graphviz를 이용하여 시각화하기\n",
    "import graphviz\n",
    "with open(\"tree.dot\") as f: #############encoding='UTF-8'넣으면 된다는데 안된다.\n",
    "    dot_graph = f.read()\n",
    "display(graphviz.Source(dot_graph))"
   ]
  },
  {
   "cell_type": "code",
   "execution_count": 37,
   "metadata": {
    "collapsed": false
   },
   "outputs": [
    {
     "name": "stdout",
     "output_type": "stream",
     "text": [
      "Feature importances: [0. 1.]\n"
     ]
    },
    {
     "data": {
      "image/png": "[encoded data removed]",
      "text/plain": [
       "<Figure size 432x288 with 1 Axes>"
      ]
     },
     "metadata": {},
     "output_type": "display_data"
    }
   ],
   "source": [
    "tree = mglearn.plots.plot_tree_not_monotone()\n",
    "#display(tree)  ##############display가 안됨\n",
    "\n",
    "#특성 중요도 : 트리를 나누는 잣대로 쓰인 특성일 수록 1에 가까운 값을 가짐. but 값이 낮다고 특성이 안 중요한 건 아님. 안쓰였을 뿐"
   ]
  },
  {
   "cell_type": "code",
   "execution_count": 46,
   "metadata": {
    "collapsed": false
   },
   "outputs": [
    {
     "data": {
      "text/plain": [
       "<matplotlib.legend.Legend at 0x1e76133bac8>"
      ]
     },
     "execution_count": 46,
     "metadata": {},
     "output_type": "execute_result"
    },
    {
     "data": {
      "image/png": "[encoded data removed]",
      "text/plain": [
       "<Figure size 432x288 with 1 Axes>"
      ]
     },
     "metadata": {},
     "output_type": "display_data"
    }
   ],
   "source": [
    "##결정 트리 회귀\n",
    "#결정 트리를 이용한 회귀에는 \"외샵\"이 존재 : train 데이터 밖의 데이터는 예측을 못함\n",
    "import os\n",
    "import pandas as pd\n",
    "ram_prices = pd.read_csv(os.path.join(mglearn.datasets.DATA_PATH,\"ram_price.csv\"))\n",
    "\n",
    "from sklearn.tree import DecisionTreeRegressor\n",
    "from sklearn.linear_model import LinearRegression\n",
    "#2000년 이전은 훈련, 2000년 이후는 테스트\n",
    "data_train = ram_prices[ram_prices.date<2000]\n",
    "data_test = ram_prices[ram_prices.date>=2000]\n",
    "#가격을 예측하기 위해 날짜 특성만 이용\n",
    "X_train = data_train.date[:,np.newaxis]\n",
    "#데이터와 타겟 관계를 선형으로<-로그 스케일\n",
    "y_train = np.log(data_train.price)\n",
    "\n",
    "tree = DecisionTreeRegressor().fit(X_train,y_train)\n",
    "linear_reg = LinearRegression().fit(X_train,y_train)\n",
    "\n",
    "#전체 기간에 대해 수행\n",
    "X_all = ram_prices.date[:,np.newaxis]\n",
    "\n",
    "pred_tree = tree.predict(X_all)\n",
    "pred_lr = linear_reg.predict(X_all)\n",
    "\n",
    "#로그 스케일을 다시 되돌림\n",
    "price_tree=np.exp(pred_tree)\n",
    "price_lr =np.exp(pred_lr)\n",
    "\n",
    "plt.semilogy(data_train.date,data_train.price,label=\"훈련데이터\")\n",
    "plt.semilogy(data_test.date, data_test.price, label='테스트 데이터')\n",
    "plt.semilogy(ram_prices.date, price_tree, label=\"트리 예측\")\n",
    "plt.semilogy(ram_prices.date, price_lr, label=\"선형회귀 예측\")\n",
    "plt.legend()\n",
    "\n",
    "#빨간 선형회귀는 test도 잘 예측함\n",
    "#초록 트리예측은 못함\n",
    "\n",
    "#사전 가지치기가 중요 매개 변수\n",
    "#장점\n",
    "#시각화 잘됨, 데이터 스케일에 구애 받지 않음\n",
    "#정규화 표준화 필요없음\n",
    "#단점\n",
    "#overfit잘 일어남"
   ]
  },
  {
   "cell_type": "code",
   "execution_count": null,
   "metadata": {
    "collapsed": true
   },
   "outputs": [],
   "source": []
  }
 ],
 "metadata": {
  "anaconda-cloud": {},
  "kernelspec": {
   "display_name": "Python [conda env:Anaconda3]",
   "language": "python",
   "name": "conda-env-Anaconda3-py"
  },
  "language_info": {
   "codemirror_mode": {
    "name": "ipython",
    "version": 3
   },
   "file_extension": ".py",
   "mimetype": "text/x-python",
   "name": "python",
   "nbconvert_exporter": "python",
   "pygments_lexer": "ipython3",
   "version": "3.5.6"
  }
 },
 "nbformat": 4,
 "nbformat_minor": 1
}
